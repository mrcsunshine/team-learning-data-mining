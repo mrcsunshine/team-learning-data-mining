{
 "cells": [
  {
   "cell_type": "markdown",
   "metadata": {},
   "source": [
    "## 任务说明\n",
    "\n",
    "- 任务主题：论文数量统计，即统计2019年全年计算机各个方向论文数量；\n",
    "- 任务内容：赛题的理解、使用 **Pandas** 读取数据并进行统计；\n",
    "- 任务成果：学习 **Pandas** 的基础操作；\n",
    "- 可参考的学习资料：[开源组织Datawhale joyful-pandas项目](https://github.com/datawhalechina/joyful-pandas)"
   ]
  },
  {
   "cell_type": "markdown",
   "metadata": {},
   "source": [
    "## 数据集介绍\n",
    "\n",
    "- 数据集来源：[数据集链接](https://www.kaggle.com/Cornell-University/arxiv)；\n",
    "- 数据集的格式如下：\n",
    "  - `id`：arXiv ID，可用于访问论文；\n",
    "  - `submitter`：论文提交者；\n",
    "  - `authors`：论文作者；\n",
    "  - `title`：论文标题；\n",
    "  - `comments`：论文页数和图表等其他信息；\n",
    "  - `journal-ref`：论文发表的期刊的信息；\n",
    "  - `doi`：数字对象标识符，[https://www.doi.org](https://www.doi.org)；\n",
    "  - `report-no`：报告编号；\n",
    "  - `categories`：论文在 arXiv 系统的所属类别或标签；\n",
    "  - `license`：文章的许可证；\n",
    "  - `abstract`：论文摘要；\n",
    "  - `versions`：论文版本；\n",
    "  - `authors_parsed`：作者的信息。"
   ]
  },
  {
   "cell_type": "markdown",
   "metadata": {},
   "source": [
    "```\n",
    "\"root\":{\n",
    "\t\t\"id\":string\"0704.0001\"\n",
    "\t\t\"submitter\":string\"Pavel Nadolsky\"\n",
    "\t\t\"authors\":string\"C. Bal\\'azs, E. L. Berger, P. M. Nadolsky, C.-P. Yuan\"\n",
    "\t\t\"title\":string\"Calculation of prompt diphoton production cross sections at Tevatron and LHC energies\"\n",
    "\t\t\"comments\":string\"37 pages, 15 figures; published version\"\n",
    "\t\t\"journal-ref\":string\"Phys.Rev.D76:013009,2007\"\n",
    "\t\t\"doi\":string\"10.1103/PhysRevD.76.013009\"\n",
    "\t\t\"report-no\":string\"ANL-HEP-PR-07-12\"\n",
    "\t\t\"categories\":string\"hep-ph\"\n",
    "\t\t\"license\":NULL\n",
    "\t\t\"abstract\":string\"  A fully differential calculation in perturbative quantum chromodynamics is presented for the production of massive photon pairs at hadron colliders. All next-to-leading order perturbative contributions from quark-antiquark, gluon-(anti)quark, and gluon-gluon subprocesses are included, as well as all-orders resummation of initial-state gluon radiation valid at next-to-next-to leading logarithmic accuracy. The region of phase space is specified in which the calculation is most reliable. Good agreement is demonstrated with data from the Fermilab Tevatron, and predictions are made for more detailed tests with CDF and DO data. Predictions are shown for distributions of diphoton pairs produced at the energy of the Large Hadron Collider (LHC). Distributions of the diphoton pairs from the decay of a Higgs boson are contrasted with those produced from QCD processes at the LHC, showing that enhanced sensitivity to the signal can be obtained with judicious selection of events.\"\n",
    "\t\t\"versions\":[\n",
    "\t\t\t\t0:{\n",
    "\t\t\t\t\t\t\"version\":string\"v1\"\n",
    "\t\t\t\t\t\t\"created\":string\"Mon, 2 Apr 2007 19:18:42 GMT\"\n",
    "\t\t\t\t\t}\n",
    "\t\t\t\t1:{\n",
    "\t\t\t\t\t\t\"version\":string\"v2\"\n",
    "\t\t\t\t\t\t\"created\":string\"Tue, 24 Jul 2007 20:10:27 GMT\"\n",
    "\t\t\t\t\t}]\n",
    "\t\t\"update_date\":string\"2008-11-26\"\n",
    "\t\t\"authors_parsed\":[\n",
    "\t\t\t\t0:[\n",
    "\t\t\t\t\t\t0:string\"Balázs\"\n",
    "\t\t\t\t\t\t1:string\"C.\"\n",
    "\t\t\t\t\t\t2:string\"\"]\n",
    "\t\t\t\t1:[\n",
    "\t\t\t\t\t\t0:string\"Berger\"\n",
    "\t\t\t\t\t\t1:string\"E. L.\"\n",
    "\t\t\t\t\t\t2:string\"\"]\n",
    "\t\t\t\t2:[\n",
    "\t\t\t\t\t\t0:string\"Nadolsky\"\n",
    "\t\t\t\t\t\t1:string\"P. M.\"\n",
    "\t\t\t\t\t\t2:string\"\"]\n",
    "\t\t\t\t3:[\n",
    "\t\t\t\t\t\t0:string\"Yuan\"\n",
    "\t\t\t\t\t\t1:string\"C. -P.\"\n",
    "\t\t\t\t\t\t2:string\"\"]]\n",
    "}\n",
    "```\n"
   ]
  },
  {
   "cell_type": "markdown",
   "metadata": {},
   "source": [
    "## arxiv论文类别介绍\n",
    "\n",
    "我们从arxiv官网，查询到论文的类别名称以及其解释如下。\n",
    "\n",
    "链接：[https://arxiv.org/help/api/user-manual](https://arxiv.org/help/api/user-manual)  的 5.3 小节的 Subject Classifications 的部分，或 [https://arxiv.org/category_taxonomy](https://arxiv.org/category_taxonomy)， 具体的153种paper的类别部分如下：\n",
    "\n",
    "```json\n",
    "'astro-ph': 'Astrophysics',\n",
    "'astro-ph.CO': 'Cosmology and Nongalactic Astrophysics',\n",
    "'astro-ph.EP': 'Earth and Planetary Astrophysics',\n",
    "'astro-ph.GA': 'Astrophysics of Galaxies',\n",
    "'cs.AI': 'Artificial Intelligence',\n",
    "'cs.AR': 'Hardware Architecture',\n",
    "'cs.CC': 'Computational Complexity',\n",
    "'cs.CE': 'Computational Engineering, Finance, and Science',\n",
    "'cs.CV': 'Computer Vision and Pattern Recognition',\n",
    "'cs.CY': 'Computers and Society',\n",
    "'cs.DB': 'Databases',\n",
    "'cs.DC': 'Distributed, Parallel, and Cluster Computing',\n",
    "'cs.DL': 'Digital Libraries',\n",
    "'cs.NA': 'Numerical Analysis',\n",
    "'cs.NE': 'Neural and Evolutionary Computing',\n",
    "'cs.NI': 'Networking and Internet Architecture',\n",
    "'cs.OH': 'Other Computer Science',\n",
    "'cs.OS': 'Operating Systems',\n",
    "```"
   ]
  },
  {
   "cell_type": "markdown",
   "metadata": {},
   "source": [
    "## 具体代码实现以及讲解\n",
    "\n",
    "### 导入package并读取原始数据"
   ]
  },
  {
   "cell_type": "code",
   "execution_count": 17,
   "metadata": {
    "ExecuteTime": {
     "end_time": "2021-01-02T04:19:22.665359Z",
     "start_time": "2021-01-02T04:19:22.001309Z"
    }
   },
   "outputs": [],
   "source": [
    "# 导入所需的package\n",
    "import seaborn as sns #用于画图\n",
    "from bs4 import BeautifulSoup #用于爬取arxiv的数据\n",
    "import re #用于正则表达式，匹配字符串的模式\n",
    "import requests #用于网络连接，发送网络请求，使用域名获取对应信息\n",
    "import json #读取数据，我们的数据为json格式的\n",
    "import pandas as pd #数据处理，数据分析\n",
    "import matplotlib.pyplot as plt #画图工具"
   ]
  },
  {
   "cell_type": "markdown",
   "metadata": {},
   "source": [
    "这里使用的package的版本如下（python 3.7.4）：\n",
    "\n",
    "- seaborn：0.9.0\n",
    "- BeautifulSoup：4.8.0\n",
    "- requests：2.22.0\n",
    "- json：0.8.5\n",
    "- pandas：0.25.1\n",
    "- matplotlib：3.1.1"
   ]
  },
  {
   "cell_type": "code",
   "execution_count": 8,
   "metadata": {
    "ExecuteTime": {
     "end_time": "2021-01-02T04:19:22.885771Z",
     "start_time": "2021-01-02T04:19:22.871625Z"
    }
   },
   "outputs": [
    {
     "data": {
      "text/plain": [
       "(100, 14)"
      ]
     },
     "execution_count": 8,
     "metadata": {},
     "output_type": "execute_result"
    }
   ],
   "source": [
    "# 读入数据\n",
    "data  = []\n",
    "\n",
    "#使用with语句优势：1.自动关闭文件句柄；2.自动显示（处理）文件读取数据异常\n",
    "with open(\"D://mrcsunshine//arxiv-metadata-oai-snapshot.json\", 'r') as f: \n",
    "    for idx, line in enumerate(f): \n",
    "        \n",
    "        # 读取前100行，如果读取所有数据需要8G内存\n",
    "        if idx >= 100:\n",
    "            break\n",
    "        \n",
    "        data.append(json.loads(line))\n",
    "        \n",
    "data = pd.DataFrame(data) #将list变为dataframe格式，方便使用pandas进行分析\n",
    "data.shape #显示数据大小"
   ]
  },
  {
   "cell_type": "code",
   "execution_count": 9,
   "metadata": {
    "ExecuteTime": {
     "end_time": "2021-01-02T04:19:23.611965Z",
     "start_time": "2021-01-02T04:19:23.591544Z"
    },
    "scrolled": true
   },
   "outputs": [
    {
     "data": {
      "text/html": [
       "<div>\n",
       "<style scoped>\n",
       "    .dataframe tbody tr th:only-of-type {\n",
       "        vertical-align: middle;\n",
       "    }\n",
       "\n",
       "    .dataframe tbody tr th {\n",
       "        vertical-align: top;\n",
       "    }\n",
       "\n",
       "    .dataframe thead th {\n",
       "        text-align: right;\n",
       "    }\n",
       "</style>\n",
       "<table border=\"1\" class=\"dataframe\">\n",
       "  <thead>\n",
       "    <tr style=\"text-align: right;\">\n",
       "      <th></th>\n",
       "      <th>id</th>\n",
       "      <th>submitter</th>\n",
       "      <th>authors</th>\n",
       "      <th>title</th>\n",
       "      <th>comments</th>\n",
       "      <th>journal-ref</th>\n",
       "      <th>doi</th>\n",
       "      <th>report-no</th>\n",
       "      <th>categories</th>\n",
       "      <th>license</th>\n",
       "      <th>abstract</th>\n",
       "      <th>versions</th>\n",
       "      <th>update_date</th>\n",
       "      <th>authors_parsed</th>\n",
       "    </tr>\n",
       "  </thead>\n",
       "  <tbody>\n",
       "    <tr>\n",
       "      <th>0</th>\n",
       "      <td>0704.0001</td>\n",
       "      <td>Pavel Nadolsky</td>\n",
       "      <td>C. Bal\\'azs, E. L. Berger, P. M. Nadolsky, C.-...</td>\n",
       "      <td>Calculation of prompt diphoton production cros...</td>\n",
       "      <td>37 pages, 15 figures; published version</td>\n",
       "      <td>Phys.Rev.D76:013009,2007</td>\n",
       "      <td>10.1103/PhysRevD.76.013009</td>\n",
       "      <td>ANL-HEP-PR-07-12</td>\n",
       "      <td>hep-ph</td>\n",
       "      <td>None</td>\n",
       "      <td>A fully differential calculation in perturba...</td>\n",
       "      <td>[{'version': 'v1', 'created': 'Mon, 2 Apr 2007...</td>\n",
       "      <td>2008-11-26</td>\n",
       "      <td>[[Balázs, C., ], [Berger, E. L., ], [Nadolsky,...</td>\n",
       "    </tr>\n",
       "    <tr>\n",
       "      <th>1</th>\n",
       "      <td>0704.0002</td>\n",
       "      <td>Louis Theran</td>\n",
       "      <td>Ileana Streinu and Louis Theran</td>\n",
       "      <td>Sparsity-certifying Graph Decompositions</td>\n",
       "      <td>To appear in Graphs and Combinatorics</td>\n",
       "      <td>None</td>\n",
       "      <td>None</td>\n",
       "      <td>None</td>\n",
       "      <td>math.CO cs.CG</td>\n",
       "      <td>http://arxiv.org/licenses/nonexclusive-distrib...</td>\n",
       "      <td>We describe a new algorithm, the $(k,\\ell)$-...</td>\n",
       "      <td>[{'version': 'v1', 'created': 'Sat, 31 Mar 200...</td>\n",
       "      <td>2008-12-13</td>\n",
       "      <td>[[Streinu, Ileana, ], [Theran, Louis, ]]</td>\n",
       "    </tr>\n",
       "    <tr>\n",
       "      <th>2</th>\n",
       "      <td>0704.0003</td>\n",
       "      <td>Hongjun Pan</td>\n",
       "      <td>Hongjun Pan</td>\n",
       "      <td>The evolution of the Earth-Moon system based o...</td>\n",
       "      <td>23 pages, 3 figures</td>\n",
       "      <td>None</td>\n",
       "      <td>None</td>\n",
       "      <td>None</td>\n",
       "      <td>physics.gen-ph</td>\n",
       "      <td>None</td>\n",
       "      <td>The evolution of Earth-Moon system is descri...</td>\n",
       "      <td>[{'version': 'v1', 'created': 'Sun, 1 Apr 2007...</td>\n",
       "      <td>2008-01-13</td>\n",
       "      <td>[[Pan, Hongjun, ]]</td>\n",
       "    </tr>\n",
       "    <tr>\n",
       "      <th>3</th>\n",
       "      <td>0704.0004</td>\n",
       "      <td>David Callan</td>\n",
       "      <td>David Callan</td>\n",
       "      <td>A determinant of Stirling cycle numbers counts...</td>\n",
       "      <td>11 pages</td>\n",
       "      <td>None</td>\n",
       "      <td>None</td>\n",
       "      <td>None</td>\n",
       "      <td>math.CO</td>\n",
       "      <td>None</td>\n",
       "      <td>We show that a determinant of Stirling cycle...</td>\n",
       "      <td>[{'version': 'v1', 'created': 'Sat, 31 Mar 200...</td>\n",
       "      <td>2007-05-23</td>\n",
       "      <td>[[Callan, David, ]]</td>\n",
       "    </tr>\n",
       "    <tr>\n",
       "      <th>4</th>\n",
       "      <td>0704.0005</td>\n",
       "      <td>Alberto Torchinsky</td>\n",
       "      <td>Wael Abu-Shammala and Alberto Torchinsky</td>\n",
       "      <td>From dyadic $\\Lambda_{\\alpha}$ to $\\Lambda_{\\a...</td>\n",
       "      <td>None</td>\n",
       "      <td>Illinois J. Math. 52 (2008) no.2, 681-689</td>\n",
       "      <td>None</td>\n",
       "      <td>None</td>\n",
       "      <td>math.CA math.FA</td>\n",
       "      <td>None</td>\n",
       "      <td>In this paper we show how to compute the $\\L...</td>\n",
       "      <td>[{'version': 'v1', 'created': 'Mon, 2 Apr 2007...</td>\n",
       "      <td>2013-10-15</td>\n",
       "      <td>[[Abu-Shammala, Wael, ], [Torchinsky, Alberto, ]]</td>\n",
       "    </tr>\n",
       "  </tbody>\n",
       "</table>\n",
       "</div>"
      ],
      "text/plain": [
       "          id           submitter  \\\n",
       "0  0704.0001      Pavel Nadolsky   \n",
       "1  0704.0002        Louis Theran   \n",
       "2  0704.0003         Hongjun Pan   \n",
       "3  0704.0004        David Callan   \n",
       "4  0704.0005  Alberto Torchinsky   \n",
       "\n",
       "                                             authors  \\\n",
       "0  C. Bal\\'azs, E. L. Berger, P. M. Nadolsky, C.-...   \n",
       "1                    Ileana Streinu and Louis Theran   \n",
       "2                                        Hongjun Pan   \n",
       "3                                       David Callan   \n",
       "4           Wael Abu-Shammala and Alberto Torchinsky   \n",
       "\n",
       "                                               title  \\\n",
       "0  Calculation of prompt diphoton production cros...   \n",
       "1           Sparsity-certifying Graph Decompositions   \n",
       "2  The evolution of the Earth-Moon system based o...   \n",
       "3  A determinant of Stirling cycle numbers counts...   \n",
       "4  From dyadic $\\Lambda_{\\alpha}$ to $\\Lambda_{\\a...   \n",
       "\n",
       "                                  comments  \\\n",
       "0  37 pages, 15 figures; published version   \n",
       "1    To appear in Graphs and Combinatorics   \n",
       "2                      23 pages, 3 figures   \n",
       "3                                 11 pages   \n",
       "4                                     None   \n",
       "\n",
       "                                 journal-ref                         doi  \\\n",
       "0                   Phys.Rev.D76:013009,2007  10.1103/PhysRevD.76.013009   \n",
       "1                                       None                        None   \n",
       "2                                       None                        None   \n",
       "3                                       None                        None   \n",
       "4  Illinois J. Math. 52 (2008) no.2, 681-689                        None   \n",
       "\n",
       "          report-no       categories  \\\n",
       "0  ANL-HEP-PR-07-12           hep-ph   \n",
       "1              None    math.CO cs.CG   \n",
       "2              None   physics.gen-ph   \n",
       "3              None          math.CO   \n",
       "4              None  math.CA math.FA   \n",
       "\n",
       "                                             license  \\\n",
       "0                                               None   \n",
       "1  http://arxiv.org/licenses/nonexclusive-distrib...   \n",
       "2                                               None   \n",
       "3                                               None   \n",
       "4                                               None   \n",
       "\n",
       "                                            abstract  \\\n",
       "0    A fully differential calculation in perturba...   \n",
       "1    We describe a new algorithm, the $(k,\\ell)$-...   \n",
       "2    The evolution of Earth-Moon system is descri...   \n",
       "3    We show that a determinant of Stirling cycle...   \n",
       "4    In this paper we show how to compute the $\\L...   \n",
       "\n",
       "                                            versions update_date  \\\n",
       "0  [{'version': 'v1', 'created': 'Mon, 2 Apr 2007...  2008-11-26   \n",
       "1  [{'version': 'v1', 'created': 'Sat, 31 Mar 200...  2008-12-13   \n",
       "2  [{'version': 'v1', 'created': 'Sun, 1 Apr 2007...  2008-01-13   \n",
       "3  [{'version': 'v1', 'created': 'Sat, 31 Mar 200...  2007-05-23   \n",
       "4  [{'version': 'v1', 'created': 'Mon, 2 Apr 2007...  2013-10-15   \n",
       "\n",
       "                                      authors_parsed  \n",
       "0  [[Balázs, C., ], [Berger, E. L., ], [Nadolsky,...  \n",
       "1           [[Streinu, Ileana, ], [Theran, Louis, ]]  \n",
       "2                                 [[Pan, Hongjun, ]]  \n",
       "3                                [[Callan, David, ]]  \n",
       "4  [[Abu-Shammala, Wael, ], [Torchinsky, Alberto, ]]  "
      ]
     },
     "execution_count": 9,
     "metadata": {},
     "output_type": "execute_result"
    }
   ],
   "source": [
    "data.head() #显示数据的前五行"
   ]
  },
  {
   "cell_type": "code",
   "execution_count": 11,
   "metadata": {
    "ExecuteTime": {
     "end_time": "2021-01-02T04:19:43.502195Z",
     "start_time": "2021-01-02T04:19:24.012183Z"
    },
    "scrolled": true
   },
   "outputs": [],
   "source": [
    "def readArxivFile(path, columns=['id', 'submitter', 'authors', 'title', 'comments', 'journal-ref', 'doi',\n",
    "       'report-no', 'categories', 'license', 'abstract', 'versions',\n",
    "       'update_date', 'authors_parsed'], count=None):\n",
    "    '''\n",
    "    定义读取文件的函数\n",
    "        path: 文件路径\n",
    "        columns: 需要选择的列\n",
    "        count: 读取行数\n",
    "    '''\n",
    "    \n",
    "    data  = []\n",
    "    with open(path, 'r') as f: \n",
    "        for idx, line in enumerate(f): \n",
    "            if idx == count:\n",
    "                break\n",
    "                \n",
    "            d = json.loads(line)\n",
    "            d = {col : d[col] for col in columns}\n",
    "            data.append(d)\n",
    "\n",
    "    data = pd.DataFrame(data)\n",
    "    return data\n",
    "\n",
    "data = readArxivFile('D://mrcsunshine//arxiv-metadata-oai-snapshot.json', ['id', 'categories', 'update_date'])\n"
   ]
  },
  {
   "cell_type": "markdown",
   "metadata": {},
   "source": [
    "### 数据预处理\n",
    "\n",
    "首先我们先来粗略统计论文的种类信息：\n",
    "\n",
    "- `count`：一列数据的元素个数；\n",
    "- `unique`：一列数据中元素的种类；\n",
    "- `top`：一列数据中出现频率最高的元素；\n",
    "- `freq`：一列数据中出现频率最高的元素的个数；"
   ]
  },
  {
   "cell_type": "code",
   "execution_count": 5,
   "metadata": {
    "ExecuteTime": {
     "end_time": "2021-01-02T04:19:43.951021Z",
     "start_time": "2021-01-02T04:19:43.504235Z"
    },
    "scrolled": true
   },
   "outputs": [
    {
     "data": {
      "text/plain": [
       "count      1796911\n",
       "unique       62055\n",
       "top       astro-ph\n",
       "freq         86914\n",
       "Name: categories, dtype: object"
      ]
     },
     "execution_count": 5,
     "metadata": {},
     "output_type": "execute_result"
    }
   ],
   "source": [
    "data[\"categories\"].describe()"
   ]
  },
  {
   "cell_type": "markdown",
   "metadata": {
    "ExecuteTime": {
     "end_time": "2021-01-02T03:39:27.397724Z",
     "start_time": "2021-01-02T03:39:27.392255Z"
    }
   },
   "source": [
    "以上的结果表明：共有1338381个数据，有61371个子类（因为有论文的类别是多个，例如一篇paper的类别是CS.AI & CS.MM和一篇paper的类别是CS.AI & CS.OS属于不同的子类别，这里仅仅是粗略统计），其中最多的种类是astro-ph，即Astrophysics（天体物理学），共出现了86914次。\n",
    "\n",
    "由于部分论文的类别不止一种，所以下面我们判断在本数据集中共出现了多少种独立的数据集。"
   ]
  },
  {
   "cell_type": "code",
   "execution_count": 6,
   "metadata": {
    "ExecuteTime": {
     "end_time": "2021-01-02T04:19:45.909106Z",
     "start_time": "2021-01-02T04:19:43.952599Z"
    }
   },
   "outputs": [
    {
     "data": {
      "text/plain": [
       "{'acc-phys',\n",
       " 'adap-org',\n",
       " 'alg-geom',\n",
       " 'ao-sci',\n",
       " 'astro-ph',\n",
       " 'astro-ph.CO',\n",
       " 'astro-ph.EP',\n",
       " 'astro-ph.GA',\n",
       " 'astro-ph.HE',\n",
       " 'astro-ph.IM',\n",
       " 'astro-ph.SR',\n",
       " 'atom-ph',\n",
       " 'bayes-an',\n",
       " 'chao-dyn',\n",
       " 'chem-ph',\n",
       " 'cmp-lg',\n",
       " 'comp-gas',\n",
       " 'cond-mat',\n",
       " 'cond-mat.dis-nn',\n",
       " 'cond-mat.mes-hall',\n",
       " 'cond-mat.mtrl-sci',\n",
       " 'cond-mat.other',\n",
       " 'cond-mat.quant-gas',\n",
       " 'cond-mat.soft',\n",
       " 'cond-mat.stat-mech',\n",
       " 'cond-mat.str-el',\n",
       " 'cond-mat.supr-con',\n",
       " 'cs.AI',\n",
       " 'cs.AR',\n",
       " 'cs.CC',\n",
       " 'cs.CE',\n",
       " 'cs.CG',\n",
       " 'cs.CL',\n",
       " 'cs.CR',\n",
       " 'cs.CV',\n",
       " 'cs.CY',\n",
       " 'cs.DB',\n",
       " 'cs.DC',\n",
       " 'cs.DL',\n",
       " 'cs.DM',\n",
       " 'cs.DS',\n",
       " 'cs.ET',\n",
       " 'cs.FL',\n",
       " 'cs.GL',\n",
       " 'cs.GR',\n",
       " 'cs.GT',\n",
       " 'cs.HC',\n",
       " 'cs.IR',\n",
       " 'cs.IT',\n",
       " 'cs.LG',\n",
       " 'cs.LO',\n",
       " 'cs.MA',\n",
       " 'cs.MM',\n",
       " 'cs.MS',\n",
       " 'cs.NA',\n",
       " 'cs.NE',\n",
       " 'cs.NI',\n",
       " 'cs.OH',\n",
       " 'cs.OS',\n",
       " 'cs.PF',\n",
       " 'cs.PL',\n",
       " 'cs.RO',\n",
       " 'cs.SC',\n",
       " 'cs.SD',\n",
       " 'cs.SE',\n",
       " 'cs.SI',\n",
       " 'cs.SY',\n",
       " 'dg-ga',\n",
       " 'econ.EM',\n",
       " 'econ.GN',\n",
       " 'econ.TH',\n",
       " 'eess.AS',\n",
       " 'eess.IV',\n",
       " 'eess.SP',\n",
       " 'eess.SY',\n",
       " 'funct-an',\n",
       " 'gr-qc',\n",
       " 'hep-ex',\n",
       " 'hep-lat',\n",
       " 'hep-ph',\n",
       " 'hep-th',\n",
       " 'math-ph',\n",
       " 'math.AC',\n",
       " 'math.AG',\n",
       " 'math.AP',\n",
       " 'math.AT',\n",
       " 'math.CA',\n",
       " 'math.CO',\n",
       " 'math.CT',\n",
       " 'math.CV',\n",
       " 'math.DG',\n",
       " 'math.DS',\n",
       " 'math.FA',\n",
       " 'math.GM',\n",
       " 'math.GN',\n",
       " 'math.GR',\n",
       " 'math.GT',\n",
       " 'math.HO',\n",
       " 'math.IT',\n",
       " 'math.KT',\n",
       " 'math.LO',\n",
       " 'math.MG',\n",
       " 'math.MP',\n",
       " 'math.NA',\n",
       " 'math.NT',\n",
       " 'math.OA',\n",
       " 'math.OC',\n",
       " 'math.PR',\n",
       " 'math.QA',\n",
       " 'math.RA',\n",
       " 'math.RT',\n",
       " 'math.SG',\n",
       " 'math.SP',\n",
       " 'math.ST',\n",
       " 'mtrl-th',\n",
       " 'nlin.AO',\n",
       " 'nlin.CD',\n",
       " 'nlin.CG',\n",
       " 'nlin.PS',\n",
       " 'nlin.SI',\n",
       " 'nucl-ex',\n",
       " 'nucl-th',\n",
       " 'patt-sol',\n",
       " 'physics.acc-ph',\n",
       " 'physics.ao-ph',\n",
       " 'physics.app-ph',\n",
       " 'physics.atm-clus',\n",
       " 'physics.atom-ph',\n",
       " 'physics.bio-ph',\n",
       " 'physics.chem-ph',\n",
       " 'physics.class-ph',\n",
       " 'physics.comp-ph',\n",
       " 'physics.data-an',\n",
       " 'physics.ed-ph',\n",
       " 'physics.flu-dyn',\n",
       " 'physics.gen-ph',\n",
       " 'physics.geo-ph',\n",
       " 'physics.hist-ph',\n",
       " 'physics.ins-det',\n",
       " 'physics.med-ph',\n",
       " 'physics.optics',\n",
       " 'physics.plasm-ph',\n",
       " 'physics.pop-ph',\n",
       " 'physics.soc-ph',\n",
       " 'physics.space-ph',\n",
       " 'plasm-ph',\n",
       " 'q-alg',\n",
       " 'q-bio',\n",
       " 'q-bio.BM',\n",
       " 'q-bio.CB',\n",
       " 'q-bio.GN',\n",
       " 'q-bio.MN',\n",
       " 'q-bio.NC',\n",
       " 'q-bio.OT',\n",
       " 'q-bio.PE',\n",
       " 'q-bio.QM',\n",
       " 'q-bio.SC',\n",
       " 'q-bio.TO',\n",
       " 'q-fin.CP',\n",
       " 'q-fin.EC',\n",
       " 'q-fin.GN',\n",
       " 'q-fin.MF',\n",
       " 'q-fin.PM',\n",
       " 'q-fin.PR',\n",
       " 'q-fin.RM',\n",
       " 'q-fin.ST',\n",
       " 'q-fin.TR',\n",
       " 'quant-ph',\n",
       " 'solv-int',\n",
       " 'stat.AP',\n",
       " 'stat.CO',\n",
       " 'stat.ME',\n",
       " 'stat.ML',\n",
       " 'stat.OT',\n",
       " 'stat.TH',\n",
       " 'supr-con'}"
      ]
     },
     "execution_count": 6,
     "metadata": {},
     "output_type": "execute_result"
    }
   ],
   "source": [
    "unique_categories = set([i for l in [x.split(' ') for x in data[\"categories\"]] for i in l])\n",
    "len(unique_categories)\n",
    "unique_categories"
   ]
  },
  {
   "cell_type": "markdown",
   "metadata": {},
   "source": [
    "这里使用了 split 函数将多类别使用 “ ”（空格）分开，组成list，并使用 for 循环将独立出现的类别找出来，并使用 set 类别，将重复项去除得到最终所有的独立paper种类。"
   ]
  },
  {
   "cell_type": "markdown",
   "metadata": {},
   "source": [
    "从以上结果发现，共有176种论文种类，比我们直接从 [https://arxiv.org/help/api/user-manual](https://arxiv.org/help/api/user-manual)  的 5.3 小节的 Subject Classifications 的部分或 [https://arxiv.org/category_taxonomy](https://arxiv.org/category_taxonomy)中的到的类别少，这说明存在一些官网上没有的类别，这是一个小细节。不过对于我们的计算机方向的论文没有影响，依然是以下的40个类别，我们从原数据中提取的和从官网的到的种类是可以一一对应的。"
   ]
  },
  {
   "cell_type": "markdown",
   "metadata": {},
   "source": [
    "我们的任务要求对于2019年以后的paper进行分析，所以首先对于时间特征进行预处理，从而得到2019年以后的所有种类的论文："
   ]
  },
  {
   "cell_type": "code",
   "execution_count": 7,
   "metadata": {
    "ExecuteTime": {
     "end_time": "2021-01-02T04:19:46.628162Z",
     "start_time": "2021-01-02T04:19:45.910463Z"
    },
    "scrolled": true
   },
   "outputs": [
    {
     "data": {
      "text/html": [
       "<div>\n",
       "<style scoped>\n",
       "    .dataframe tbody tr th:only-of-type {\n",
       "        vertical-align: middle;\n",
       "    }\n",
       "\n",
       "    .dataframe tbody tr th {\n",
       "        vertical-align: top;\n",
       "    }\n",
       "\n",
       "    .dataframe thead th {\n",
       "        text-align: right;\n",
       "    }\n",
       "</style>\n",
       "<table border=\"1\" class=\"dataframe\">\n",
       "  <thead>\n",
       "    <tr style=\"text-align: right;\">\n",
       "      <th></th>\n",
       "      <th>id</th>\n",
       "      <th>categories</th>\n",
       "      <th>year</th>\n",
       "    </tr>\n",
       "  </thead>\n",
       "  <tbody>\n",
       "    <tr>\n",
       "      <th>0</th>\n",
       "      <td>0704.0297</td>\n",
       "      <td>astro-ph</td>\n",
       "      <td>2019</td>\n",
       "    </tr>\n",
       "    <tr>\n",
       "      <th>1</th>\n",
       "      <td>0704.0342</td>\n",
       "      <td>math.AT</td>\n",
       "      <td>2019</td>\n",
       "    </tr>\n",
       "    <tr>\n",
       "      <th>2</th>\n",
       "      <td>0704.0360</td>\n",
       "      <td>astro-ph</td>\n",
       "      <td>2019</td>\n",
       "    </tr>\n",
       "    <tr>\n",
       "      <th>3</th>\n",
       "      <td>0704.0525</td>\n",
       "      <td>gr-qc</td>\n",
       "      <td>2019</td>\n",
       "    </tr>\n",
       "    <tr>\n",
       "      <th>4</th>\n",
       "      <td>0704.0535</td>\n",
       "      <td>astro-ph</td>\n",
       "      <td>2019</td>\n",
       "    </tr>\n",
       "    <tr>\n",
       "      <th>...</th>\n",
       "      <td>...</td>\n",
       "      <td>...</td>\n",
       "      <td>...</td>\n",
       "    </tr>\n",
       "    <tr>\n",
       "      <th>395118</th>\n",
       "      <td>quant-ph/9911051</td>\n",
       "      <td>quant-ph</td>\n",
       "      <td>2020</td>\n",
       "    </tr>\n",
       "    <tr>\n",
       "      <th>395119</th>\n",
       "      <td>solv-int/9511005</td>\n",
       "      <td>solv-int nlin.SI</td>\n",
       "      <td>2019</td>\n",
       "    </tr>\n",
       "    <tr>\n",
       "      <th>395120</th>\n",
       "      <td>solv-int/9809008</td>\n",
       "      <td>solv-int nlin.SI</td>\n",
       "      <td>2019</td>\n",
       "    </tr>\n",
       "    <tr>\n",
       "      <th>395121</th>\n",
       "      <td>solv-int/9909010</td>\n",
       "      <td>solv-int adap-org hep-th nlin.AO nlin.SI</td>\n",
       "      <td>2019</td>\n",
       "    </tr>\n",
       "    <tr>\n",
       "      <th>395122</th>\n",
       "      <td>solv-int/9909014</td>\n",
       "      <td>solv-int nlin.SI</td>\n",
       "      <td>2019</td>\n",
       "    </tr>\n",
       "  </tbody>\n",
       "</table>\n",
       "<p>395123 rows × 3 columns</p>\n",
       "</div>"
      ],
      "text/plain": [
       "                      id                                categories  year\n",
       "0              0704.0297                                  astro-ph  2019\n",
       "1              0704.0342                                   math.AT  2019\n",
       "2              0704.0360                                  astro-ph  2019\n",
       "3              0704.0525                                     gr-qc  2019\n",
       "4              0704.0535                                  astro-ph  2019\n",
       "...                  ...                                       ...   ...\n",
       "395118  quant-ph/9911051                                  quant-ph  2020\n",
       "395119  solv-int/9511005                          solv-int nlin.SI  2019\n",
       "395120  solv-int/9809008                          solv-int nlin.SI  2019\n",
       "395121  solv-int/9909010  solv-int adap-org hep-th nlin.AO nlin.SI  2019\n",
       "395122  solv-int/9909014                          solv-int nlin.SI  2019\n",
       "\n",
       "[395123 rows x 3 columns]"
      ]
     },
     "execution_count": 7,
     "metadata": {},
     "output_type": "execute_result"
    }
   ],
   "source": [
    "data[\"year\"] = pd.to_datetime(data[\"update_date\"]).dt.year #将update_date从例如2019-02-20的str变为datetime格式，并提取处year\n",
    "del data[\"update_date\"] #删除 update_date特征，其使命已完成\n",
    "data = data[data[\"year\"] >= 2019] #找出 year 中2019年以后的数据，并将其他数据删除\n",
    "\n",
    "# data.groupby(['categories','year']) #以 categories 进行排序，如果同一个categories 相同则使用 year 特征进行排序\n",
    "data.reset_index(drop=True, inplace=True) #重新编号\n",
    "data #查看结果"
   ]
  },
  {
   "cell_type": "code",
   "execution_count": 19,
   "metadata": {},
   "outputs": [],
   "source": [
    "import lxml  "
   ]
  },
  {
   "cell_type": "markdown",
   "metadata": {},
   "source": [
    "这里我们就已经得到了所有2019年以后的论文，下面我们挑选出计算机领域内的所有文章："
   ]
  },
  {
   "cell_type": "code",
   "execution_count": 21,
   "metadata": {
    "ExecuteTime": {
     "end_time": "2021-01-02T04:19:54.833193Z",
     "start_time": "2021-01-02T04:19:50.681625Z"
    }
   },
   "outputs": [
    {
     "data": {
      "text/html": [
       "<div>\n",
       "<style scoped>\n",
       "    .dataframe tbody tr th:only-of-type {\n",
       "        vertical-align: middle;\n",
       "    }\n",
       "\n",
       "    .dataframe tbody tr th {\n",
       "        vertical-align: top;\n",
       "    }\n",
       "\n",
       "    .dataframe thead th {\n",
       "        text-align: right;\n",
       "    }\n",
       "</style>\n",
       "<table border=\"1\" class=\"dataframe\">\n",
       "  <thead>\n",
       "    <tr style=\"text-align: right;\">\n",
       "      <th></th>\n",
       "      <th>group_name</th>\n",
       "      <th>archive_name</th>\n",
       "      <th>archive_id</th>\n",
       "      <th>category_name</th>\n",
       "      <th>categories</th>\n",
       "      <th>category_description</th>\n",
       "    </tr>\n",
       "  </thead>\n",
       "  <tbody>\n",
       "    <tr>\n",
       "      <th>0</th>\n",
       "      <td>Computer Science</td>\n",
       "      <td>Computer Science</td>\n",
       "      <td>Computer Science</td>\n",
       "      <td>Artificial Intelligence</td>\n",
       "      <td>cs.AI</td>\n",
       "      <td>Covers all areas of AI except Vision, Robotics...</td>\n",
       "    </tr>\n",
       "    <tr>\n",
       "      <th>1</th>\n",
       "      <td>Computer Science</td>\n",
       "      <td>Computer Science</td>\n",
       "      <td>Computer Science</td>\n",
       "      <td>Hardware Architecture</td>\n",
       "      <td>cs.AR</td>\n",
       "      <td>Covers systems organization and hardware archi...</td>\n",
       "    </tr>\n",
       "    <tr>\n",
       "      <th>2</th>\n",
       "      <td>Computer Science</td>\n",
       "      <td>Computer Science</td>\n",
       "      <td>Computer Science</td>\n",
       "      <td>Computational Complexity</td>\n",
       "      <td>cs.CC</td>\n",
       "      <td>Covers models of computation, complexity class...</td>\n",
       "    </tr>\n",
       "    <tr>\n",
       "      <th>3</th>\n",
       "      <td>Computer Science</td>\n",
       "      <td>Computer Science</td>\n",
       "      <td>Computer Science</td>\n",
       "      <td>Computational Engineering, Finance, and Science</td>\n",
       "      <td>cs.CE</td>\n",
       "      <td>Covers applications of computer science to the...</td>\n",
       "    </tr>\n",
       "    <tr>\n",
       "      <th>4</th>\n",
       "      <td>Computer Science</td>\n",
       "      <td>Computer Science</td>\n",
       "      <td>Computer Science</td>\n",
       "      <td>Computational Geometry</td>\n",
       "      <td>cs.CG</td>\n",
       "      <td>Roughly includes material in ACM Subject Class...</td>\n",
       "    </tr>\n",
       "    <tr>\n",
       "      <th>...</th>\n",
       "      <td>...</td>\n",
       "      <td>...</td>\n",
       "      <td>...</td>\n",
       "      <td>...</td>\n",
       "      <td>...</td>\n",
       "      <td>...</td>\n",
       "    </tr>\n",
       "    <tr>\n",
       "      <th>150</th>\n",
       "      <td>Statistics</td>\n",
       "      <td>Statistics</td>\n",
       "      <td>Statistics</td>\n",
       "      <td>Computation</td>\n",
       "      <td>stat.CO</td>\n",
       "      <td>Algorithms, Simulation, Visualization</td>\n",
       "    </tr>\n",
       "    <tr>\n",
       "      <th>151</th>\n",
       "      <td>Statistics</td>\n",
       "      <td>Statistics</td>\n",
       "      <td>Statistics</td>\n",
       "      <td>Methodology</td>\n",
       "      <td>stat.ME</td>\n",
       "      <td>Design, Surveys, Model Selection, Multiple Tes...</td>\n",
       "    </tr>\n",
       "    <tr>\n",
       "      <th>152</th>\n",
       "      <td>Statistics</td>\n",
       "      <td>Statistics</td>\n",
       "      <td>Statistics</td>\n",
       "      <td>Machine Learning</td>\n",
       "      <td>stat.ML</td>\n",
       "      <td>Covers machine learning papers (supervised, un...</td>\n",
       "    </tr>\n",
       "    <tr>\n",
       "      <th>153</th>\n",
       "      <td>Statistics</td>\n",
       "      <td>Statistics</td>\n",
       "      <td>Statistics</td>\n",
       "      <td>Other Statistics</td>\n",
       "      <td>stat.OT</td>\n",
       "      <td>Work in statistics that does not fit into the ...</td>\n",
       "    </tr>\n",
       "    <tr>\n",
       "      <th>154</th>\n",
       "      <td>Statistics</td>\n",
       "      <td>Statistics</td>\n",
       "      <td>Statistics</td>\n",
       "      <td>Statistics Theory</td>\n",
       "      <td>stat.TH</td>\n",
       "      <td>stat.TH is an alias for math.ST. Asymptotics, ...</td>\n",
       "    </tr>\n",
       "  </tbody>\n",
       "</table>\n",
       "<p>155 rows × 6 columns</p>\n",
       "</div>"
      ],
      "text/plain": [
       "           group_name      archive_name        archive_id  \\\n",
       "0    Computer Science  Computer Science  Computer Science   \n",
       "1    Computer Science  Computer Science  Computer Science   \n",
       "2    Computer Science  Computer Science  Computer Science   \n",
       "3    Computer Science  Computer Science  Computer Science   \n",
       "4    Computer Science  Computer Science  Computer Science   \n",
       "..                ...               ...               ...   \n",
       "150        Statistics        Statistics        Statistics   \n",
       "151        Statistics        Statistics        Statistics   \n",
       "152        Statistics        Statistics        Statistics   \n",
       "153        Statistics        Statistics        Statistics   \n",
       "154        Statistics        Statistics        Statistics   \n",
       "\n",
       "                                       category_name categories  \\\n",
       "0                            Artificial Intelligence      cs.AI   \n",
       "1                              Hardware Architecture      cs.AR   \n",
       "2                           Computational Complexity      cs.CC   \n",
       "3    Computational Engineering, Finance, and Science      cs.CE   \n",
       "4                             Computational Geometry      cs.CG   \n",
       "..                                               ...        ...   \n",
       "150                                      Computation    stat.CO   \n",
       "151                                      Methodology    stat.ME   \n",
       "152                                 Machine Learning    stat.ML   \n",
       "153                                 Other Statistics    stat.OT   \n",
       "154                                Statistics Theory    stat.TH   \n",
       "\n",
       "                                  category_description  \n",
       "0    Covers all areas of AI except Vision, Robotics...  \n",
       "1    Covers systems organization and hardware archi...  \n",
       "2    Covers models of computation, complexity class...  \n",
       "3    Covers applications of computer science to the...  \n",
       "4    Roughly includes material in ACM Subject Class...  \n",
       "..                                                 ...  \n",
       "150              Algorithms, Simulation, Visualization  \n",
       "151  Design, Surveys, Model Selection, Multiple Tes...  \n",
       "152  Covers machine learning papers (supervised, un...  \n",
       "153  Work in statistics that does not fit into the ...  \n",
       "154  stat.TH is an alias for math.ST. Asymptotics, ...  \n",
       "\n",
       "[155 rows x 6 columns]"
      ]
     },
     "execution_count": 21,
     "metadata": {},
     "output_type": "execute_result"
    }
   ],
   "source": [
    "#爬取所有的类别\n",
    "website_url = requests.get('https://arxiv.org/category_taxonomy').text #获取网页的文本数据\n",
    "soup = BeautifulSoup(website_url,'html.parser') #爬取数据，这里使用lxml的解析器，加速\n",
    "root = soup.find('div',{'id':'category_taxonomy_list'}) #找出 BeautifulSoup 对应的标签入口\n",
    "tags = root.find_all([\"h2\",\"h3\",\"h4\",\"p\"], recursive=True) #读取 tags\n",
    "\n",
    "#初始化 str 和 list 变量\n",
    "level_1_name = \"\"\n",
    "level_2_name = \"\"\n",
    "level_2_code = \"\"\n",
    "level_1_names = []\n",
    "level_2_codes = []\n",
    "level_2_names = []\n",
    "level_3_codes = []\n",
    "level_3_names = []\n",
    "level_3_notes = []\n",
    "\n",
    "#进行\n",
    "for t in tags:\n",
    "    if t.name == \"h2\":\n",
    "        level_1_name = t.text    \n",
    "        level_2_code = t.text\n",
    "        level_2_name = t.text\n",
    "    elif t.name == \"h3\":\n",
    "        raw = t.text\n",
    "        level_2_code = re.sub(r\"(.*)\\((.*)\\)\",r\"\\2\",raw) #正则表达式：模式字符串：(.*)\\((.*)\\)；被替换字符串\"\\2\"；被处理字符串：raw\n",
    "        level_2_name = re.sub(r\"(.*)\\((.*)\\)\",r\"\\1\",raw)\n",
    "    elif t.name == \"h4\":\n",
    "        raw = t.text\n",
    "        level_3_code = re.sub(r\"(.*) \\((.*)\\)\",r\"\\1\",raw)\n",
    "        level_3_name = re.sub(r\"(.*) \\((.*)\\)\",r\"\\2\",raw)\n",
    "    elif t.name == \"p\":\n",
    "        notes = t.text\n",
    "        level_1_names.append(level_1_name)\n",
    "        level_2_names.append(level_2_name)\n",
    "        level_2_codes.append(level_2_code)\n",
    "        level_3_names.append(level_3_name)\n",
    "        level_3_codes.append(level_3_code)\n",
    "        level_3_notes.append(notes)\n",
    "\n",
    "#根据以上信息生成dataframe格式的数据\n",
    "df_taxonomy = pd.DataFrame({\n",
    "    'group_name' : level_1_names,\n",
    "    'archive_name' : level_2_names,\n",
    "    'archive_id' : level_2_codes,\n",
    "    'category_name' : level_3_names,\n",
    "    'categories' : level_3_codes,\n",
    "    'category_description': level_3_notes\n",
    "    \n",
    "})\n",
    "\n",
    "#按照 \"group_name\" 进行分组，在组内使用 \"archive_name\" 进行排序\n",
    "df_taxonomy.groupby([\"group_name\",\"archive_name\"])\n",
    "df_taxonomy"
   ]
  },
  {
   "cell_type": "markdown",
   "metadata": {},
   "source": [
    "这里主要说明一下上面代码中的正则操作，这里我们使用re.sub来用于替换字符串中的匹配项\n",
    "\n",
    "- pattern : 正则中的模式字符串。\n",
    "- repl : 替换的字符串，也可为一个函数。\n",
    "- string : 要被查找替换的原始字符串。\n",
    "- count : 模式匹配后替换的最大次数，默认 0 表示替换所有的匹配。\n",
    "- flags : 编译时用的匹配模式，数字形式。\n",
    "- 其中pattern、repl、string为必选参数\n",
    "\n",
    "re.sub(pattern, repl, string, count=0, flags=0)\n",
    "\n",
    "实例如下："
   ]
  },
  {
   "cell_type": "code",
   "execution_count": 22,
   "metadata": {
    "ExecuteTime": {
     "end_time": "2021-01-02T04:19:59.140189Z",
     "start_time": "2021-01-02T04:19:59.132494Z"
    }
   },
   "outputs": [
    {
     "name": "stdout",
     "output_type": "stream",
     "text": [
      "电话号码 :  2004-959-559 \n",
      "电话号码 :  2004959559\n"
     ]
    }
   ],
   "source": [
    "import re\n",
    "\n",
    "phone = \"2004-959-559 # 这是一个电话号码\"\n",
    " \n",
    "# 删除注释\n",
    "num = re.sub(r'#.*$', \"\", phone)\n",
    "print (\"电话号码 : \", num)\n",
    " \n",
    "# 移除非数字的内容\n",
    "num = re.sub(r'\\D', \"\", phone)\n",
    "print (\"电话号码 : \", num)"
   ]
  },
  {
   "cell_type": "markdown",
   "metadata": {},
   "source": [
    "详细了解可以参考：[https://www.runoob.com/python3/python3-reg-expressions.html](https://www.runoob.com/python3/python3-reg-expressions.html)\n",
    "\n",
    "对于我们的代码来说："
   ]
  },
  {
   "cell_type": "code",
   "execution_count": 23,
   "metadata": {
    "ExecuteTime": {
     "end_time": "2021-01-02T04:20:00.747341Z",
     "start_time": "2021-01-02T04:20:00.741522Z"
    }
   },
   "outputs": [
    {
     "data": {
      "text/plain": [
       "'astro-ph'"
      ]
     },
     "execution_count": 23,
     "metadata": {},
     "output_type": "execute_result"
    }
   ],
   "source": [
    "re.sub(r\"(.*)\\((.*)\\)\",r\"\\2\", \" Astrophysics(astro-ph)\")"
   ]
  },
  {
   "cell_type": "markdown",
   "metadata": {},
   "source": [
    "对应的参数\n",
    "\n",
    "- 正则中的模式字符串 pattern 的格式为 “任意字符” + “(” + \"任意字符\" + \")\"。\n",
    "- 替换的字符串 repl 为第2个分组的内容。\n",
    "- 要被查找替换的原始字符串 string 为原始的爬取的数据。\n",
    "\n",
    "这里推荐大家一个在线正则表达式测试的网站：[https://tool.oschina.net/regex/](https://tool.oschina.net/regex/)"
   ]
  },
  {
   "cell_type": "markdown",
   "metadata": {},
   "source": [
    "### 数据分析及可视化\n",
    "\n",
    "接下来我们首先看一下所有大类的paper数量分布：\n",
    "\n",
    "我们使用merge函数，以两个dataframe共同的属性 “categories” 进行合并，并以 “group_name” 作为类别进行统计，统计结果放入 “id” 列中并排序。"
   ]
  },
  {
   "cell_type": "code",
   "execution_count": 24,
   "metadata": {
    "ExecuteTime": {
     "end_time": "2021-01-02T04:20:03.374053Z",
     "start_time": "2021-01-02T04:20:03.002091Z"
    }
   },
   "outputs": [
    {
     "data": {
      "text/html": [
       "<div>\n",
       "<style scoped>\n",
       "    .dataframe tbody tr th:only-of-type {\n",
       "        vertical-align: middle;\n",
       "    }\n",
       "\n",
       "    .dataframe tbody tr th {\n",
       "        vertical-align: top;\n",
       "    }\n",
       "\n",
       "    .dataframe thead th {\n",
       "        text-align: right;\n",
       "    }\n",
       "</style>\n",
       "<table border=\"1\" class=\"dataframe\">\n",
       "  <thead>\n",
       "    <tr style=\"text-align: right;\">\n",
       "      <th></th>\n",
       "      <th>group_name</th>\n",
       "      <th>id</th>\n",
       "    </tr>\n",
       "  </thead>\n",
       "  <tbody>\n",
       "    <tr>\n",
       "      <th>0</th>\n",
       "      <td>Physics</td>\n",
       "      <td>564423</td>\n",
       "    </tr>\n",
       "    <tr>\n",
       "      <th>1</th>\n",
       "      <td>Mathematics</td>\n",
       "      <td>217136</td>\n",
       "    </tr>\n",
       "    <tr>\n",
       "      <th>2</th>\n",
       "      <td>Computer Science</td>\n",
       "      <td>116539</td>\n",
       "    </tr>\n",
       "    <tr>\n",
       "      <th>3</th>\n",
       "      <td>Statistics</td>\n",
       "      <td>13459</td>\n",
       "    </tr>\n",
       "    <tr>\n",
       "      <th>4</th>\n",
       "      <td>Quantitative Biology</td>\n",
       "      <td>9022</td>\n",
       "    </tr>\n",
       "    <tr>\n",
       "      <th>5</th>\n",
       "      <td>Electrical Engineering and Systems Science</td>\n",
       "      <td>4464</td>\n",
       "    </tr>\n",
       "    <tr>\n",
       "      <th>6</th>\n",
       "      <td>Quantitative Finance</td>\n",
       "      <td>3116</td>\n",
       "    </tr>\n",
       "    <tr>\n",
       "      <th>7</th>\n",
       "      <td>Economics</td>\n",
       "      <td>724</td>\n",
       "    </tr>\n",
       "  </tbody>\n",
       "</table>\n",
       "</div>"
      ],
      "text/plain": [
       "                                   group_name      id\n",
       "0                                     Physics  564423\n",
       "1                                 Mathematics  217136\n",
       "2                            Computer Science  116539\n",
       "3                                  Statistics   13459\n",
       "4                        Quantitative Biology    9022\n",
       "5  Electrical Engineering and Systems Science    4464\n",
       "6                        Quantitative Finance    3116\n",
       "7                                   Economics     724"
      ]
     },
     "execution_count": 24,
     "metadata": {},
     "output_type": "execute_result"
    }
   ],
   "source": [
    "_df = data.merge(df_taxonomy, on=\"categories\", how=\"left\").drop_duplicates([\"id\",\"group_name\"]).groupby(\"group_name\").agg({\"id\":\"count\"}).sort_values(by=\"id\",ascending=False).reset_index()\n",
    "\n",
    "_df\n"
   ]
  },
  {
   "cell_type": "markdown",
   "metadata": {},
   "source": [
    "下面我们使用饼图进行上图结果的可视化："
   ]
  },
  {
   "cell_type": "code",
   "execution_count": 25,
   "metadata": {
    "ExecuteTime": {
     "end_time": "2021-01-02T04:20:05.773739Z",
     "start_time": "2021-01-02T04:20:05.375789Z"
    }
   },
   "outputs": [
    {
     "data": {
      "image/png": "[encoded data removed]",
      "text/plain": [
       "<Figure size 1080x864 with 1 Axes>"
      ]
     },
     "metadata": {},
     "output_type": "display_data"
    }
   ],
   "source": [
    "fig = plt.figure(figsize=(15,12))\n",
    "explode = (0, 0, 0, 0.2, 0.3, 0.3, 0.2, 0.1) \n",
    "plt.pie(_df[\"id\"],  labels=_df[\"group_name\"], autopct='%1.2f%%', startangle=160, explode=explode)\n",
    "plt.tight_layout()\n",
    "plt.show()"
   ]
  },
  {
   "cell_type": "markdown",
   "metadata": {},
   "source": [
    "下面统计在计算机各个子领域2019年后的paper数量，我们同样使用 merge 函数，对于两个dataframe 共同的特征 categories  进行合并并且进行查询。然后我们再对于数据进行统计和排序从而得到以下的结果："
   ]
  },
  {
   "cell_type": "code",
   "execution_count": 27,
   "metadata": {
    "ExecuteTime": {
     "end_time": "2021-01-02T04:20:08.518021Z",
     "start_time": "2021-01-02T04:20:08.322838Z"
    }
   },
   "outputs": [
    {
     "ename": "KeyError",
     "evalue": "'year'",
     "output_type": "error",
     "traceback": [
      "\u001b[1;31m---------------------------------------------------------------------------\u001b[0m",
      "\u001b[1;31mKeyError\u001b[0m                                  Traceback (most recent call last)",
      "\u001b[1;32m<ipython-input-27-d0d5baafec8b>\u001b[0m in \u001b[0;36m<module>\u001b[1;34m\u001b[0m\n\u001b[0;32m      1\u001b[0m \u001b[0mgroup_name\u001b[0m\u001b[1;33m=\u001b[0m\u001b[1;34m\"Computer Science\"\u001b[0m\u001b[1;33m\u001b[0m\u001b[0m\n\u001b[0;32m      2\u001b[0m \u001b[0mcats\u001b[0m \u001b[1;33m=\u001b[0m \u001b[0mdata\u001b[0m\u001b[1;33m.\u001b[0m\u001b[0mmerge\u001b[0m\u001b[1;33m(\u001b[0m\u001b[0mdf_taxonomy\u001b[0m\u001b[1;33m,\u001b[0m \u001b[0mon\u001b[0m\u001b[1;33m=\u001b[0m\u001b[1;34m\"categories\"\u001b[0m\u001b[1;33m)\u001b[0m\u001b[1;33m.\u001b[0m\u001b[0mquery\u001b[0m\u001b[1;33m(\u001b[0m\u001b[1;34m\"group_name == @group_name\"\u001b[0m\u001b[1;33m)\u001b[0m\u001b[1;33m\u001b[0m\u001b[0m\n\u001b[1;32m----> 3\u001b[1;33m \u001b[0mcats\u001b[0m\u001b[1;33m.\u001b[0m\u001b[0mgroupby\u001b[0m\u001b[1;33m(\u001b[0m\u001b[1;33m[\u001b[0m\u001b[1;34m\"year\"\u001b[0m\u001b[1;33m,\u001b[0m\u001b[1;34m\"category_name\"\u001b[0m\u001b[1;33m]\u001b[0m\u001b[1;33m)\u001b[0m\u001b[1;33m.\u001b[0m\u001b[0mcount\u001b[0m\u001b[1;33m(\u001b[0m\u001b[1;33m)\u001b[0m\u001b[1;33m.\u001b[0m\u001b[0mreset_index\u001b[0m\u001b[1;33m(\u001b[0m\u001b[1;33m)\u001b[0m\u001b[1;33m.\u001b[0m\u001b[0mpivot\u001b[0m\u001b[1;33m(\u001b[0m\u001b[0mindex\u001b[0m\u001b[1;33m=\u001b[0m\u001b[1;34m\"category_name\"\u001b[0m\u001b[1;33m,\u001b[0m \u001b[0mcolumns\u001b[0m\u001b[1;33m=\u001b[0m\u001b[1;34m\"year\"\u001b[0m\u001b[1;33m,\u001b[0m\u001b[0mvalues\u001b[0m\u001b[1;33m=\u001b[0m\u001b[1;34m\"id\"\u001b[0m\u001b[1;33m)\u001b[0m\u001b[1;33m\u001b[0m\u001b[0m\n\u001b[0m",
      "\u001b[1;32mc:\\users\\ruma\\appdata\\local\\programs\\python\\python37-32\\lib\\site-packages\\pandas\\core\\frame.py\u001b[0m in \u001b[0;36mgroupby\u001b[1;34m(self, by, axis, level, as_index, sort, group_keys, squeeze, observed)\u001b[0m\n\u001b[0;32m   5808\u001b[0m             \u001b[0mgroup_keys\u001b[0m\u001b[1;33m=\u001b[0m\u001b[0mgroup_keys\u001b[0m\u001b[1;33m,\u001b[0m\u001b[1;33m\u001b[0m\u001b[0m\n\u001b[0;32m   5809\u001b[0m             \u001b[0msqueeze\u001b[0m\u001b[1;33m=\u001b[0m\u001b[0msqueeze\u001b[0m\u001b[1;33m,\u001b[0m\u001b[1;33m\u001b[0m\u001b[0m\n\u001b[1;32m-> 5810\u001b[1;33m             \u001b[0mobserved\u001b[0m\u001b[1;33m=\u001b[0m\u001b[0mobserved\u001b[0m\u001b[1;33m,\u001b[0m\u001b[1;33m\u001b[0m\u001b[0m\n\u001b[0m\u001b[0;32m   5811\u001b[0m         )\n\u001b[0;32m   5812\u001b[0m \u001b[1;33m\u001b[0m\u001b[0m\n",
      "\u001b[1;32mc:\\users\\ruma\\appdata\\local\\programs\\python\\python37-32\\lib\\site-packages\\pandas\\core\\groupby\\groupby.py\u001b[0m in \u001b[0;36m__init__\u001b[1;34m(self, obj, keys, axis, level, grouper, exclusions, selection, as_index, sort, group_keys, squeeze, observed, mutated)\u001b[0m\n\u001b[0;32m    408\u001b[0m                 \u001b[0msort\u001b[0m\u001b[1;33m=\u001b[0m\u001b[0msort\u001b[0m\u001b[1;33m,\u001b[0m\u001b[1;33m\u001b[0m\u001b[0m\n\u001b[0;32m    409\u001b[0m                 \u001b[0mobserved\u001b[0m\u001b[1;33m=\u001b[0m\u001b[0mobserved\u001b[0m\u001b[1;33m,\u001b[0m\u001b[1;33m\u001b[0m\u001b[0m\n\u001b[1;32m--> 410\u001b[1;33m                 \u001b[0mmutated\u001b[0m\u001b[1;33m=\u001b[0m\u001b[0mself\u001b[0m\u001b[1;33m.\u001b[0m\u001b[0mmutated\u001b[0m\u001b[1;33m,\u001b[0m\u001b[1;33m\u001b[0m\u001b[0m\n\u001b[0m\u001b[0;32m    411\u001b[0m             )\n\u001b[0;32m    412\u001b[0m \u001b[1;33m\u001b[0m\u001b[0m\n",
      "\u001b[1;32mc:\\users\\ruma\\appdata\\local\\programs\\python\\python37-32\\lib\\site-packages\\pandas\\core\\groupby\\grouper.py\u001b[0m in \u001b[0;36mget_grouper\u001b[1;34m(obj, key, axis, level, sort, observed, mutated, validate)\u001b[0m\n\u001b[0;32m    598\u001b[0m                 \u001b[0min_axis\u001b[0m\u001b[1;33m,\u001b[0m \u001b[0mname\u001b[0m\u001b[1;33m,\u001b[0m \u001b[0mlevel\u001b[0m\u001b[1;33m,\u001b[0m \u001b[0mgpr\u001b[0m \u001b[1;33m=\u001b[0m \u001b[1;32mFalse\u001b[0m\u001b[1;33m,\u001b[0m \u001b[1;32mNone\u001b[0m\u001b[1;33m,\u001b[0m \u001b[0mgpr\u001b[0m\u001b[1;33m,\u001b[0m \u001b[1;32mNone\u001b[0m\u001b[1;33m\u001b[0m\u001b[0m\n\u001b[0;32m    599\u001b[0m             \u001b[1;32melse\u001b[0m\u001b[1;33m:\u001b[0m\u001b[1;33m\u001b[0m\u001b[0m\n\u001b[1;32m--> 600\u001b[1;33m                 \u001b[1;32mraise\u001b[0m \u001b[0mKeyError\u001b[0m\u001b[1;33m(\u001b[0m\u001b[0mgpr\u001b[0m\u001b[1;33m)\u001b[0m\u001b[1;33m\u001b[0m\u001b[0m\n\u001b[0m\u001b[0;32m    601\u001b[0m         \u001b[1;32melif\u001b[0m \u001b[0misinstance\u001b[0m\u001b[1;33m(\u001b[0m\u001b[0mgpr\u001b[0m\u001b[1;33m,\u001b[0m \u001b[0mGrouper\u001b[0m\u001b[1;33m)\u001b[0m \u001b[1;32mand\u001b[0m \u001b[0mgpr\u001b[0m\u001b[1;33m.\u001b[0m\u001b[0mkey\u001b[0m \u001b[1;32mis\u001b[0m \u001b[1;32mnot\u001b[0m \u001b[1;32mNone\u001b[0m\u001b[1;33m:\u001b[0m\u001b[1;33m\u001b[0m\u001b[0m\n\u001b[0;32m    602\u001b[0m             \u001b[1;31m# Add key to exclusions\u001b[0m\u001b[1;33m\u001b[0m\u001b[1;33m\u001b[0m\u001b[0m\n",
      "\u001b[1;31mKeyError\u001b[0m: 'year'"
     ]
    }
   ],
   "source": [
    "group_name=\"Computer Science\"\n",
    "cats = data.merge(df_taxonomy, on=\"categories\").query(\"group_name == @group_name\")\n",
    "cats.groupby([\"year\",\"category_name\"]).count().reset_index().pivot(index=\"category_name\", columns=\"year\",values=\"id\") \n"
   ]
  },
  {
   "cell_type": "markdown",
   "metadata": {},
   "source": [
    "我们可以从结果看出，Computer Vision and Pattern Recognition（计算机视觉与模式识别）类是CS中paper数量最多的子类，遥遥领先于其他的CS子类，并且paper的数量还在逐年增加；另外，Computation and Language（计算与语言）、Cryptography and Security（密码学与安全）以及 Robotics（机器人学）的2019年paper数量均超过1000或接近1000，这与我们的认知是一致的。"
   ]
  },
  {
   "cell_type": "code",
   "execution_count": null,
   "metadata": {},
   "outputs": [],
   "source": []
  }
 ],
 "metadata": {
  "kernelspec": {
   "display_name": "Python 3",
   "language": "python",
   "name": "python3"
  },
  "language_info": {
   "codemirror_mode": {
    "name": "ipython",
    "version": 3
   },
   "file_extension": ".py",
   "mimetype": "text/x-python",
   "name": "python",
   "nbconvert_exporter": "python",
   "pygments_lexer": "ipython3",
   "version": "3.7.0"
  },
  "toc": {
   "base_numbering": 1,
   "nav_menu": {},
   "number_sections": true,
   "sideBar": true,
   "skip_h1_title": false,
   "title_cell": "Table of Contents",
   "title_sidebar": "Contents",
   "toc_cell": false,
   "toc_position": {},
   "toc_section_display": true,
   "toc_window_display": true
  }
 },
 "nbformat": 4,
 "nbformat_minor": 2
}
